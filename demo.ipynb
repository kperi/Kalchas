{
 "cells": [
  {
   "cell_type": "code",
   "execution_count": null,
   "metadata": {},
   "outputs": [],
   "source": [
    "#%load_ext autoreload\n",
    "#%autoreload 2\n",
    "\n",
    "import matplotlib.pyplot as plt\n",
    "\n",
    "from PIL import Image\n",
    "from kalchas.ocr import list_available_models, load_ocr_model\n",
    "from kalchas.utils import segment \n",
    "import numpy as np"
   ]
  },
  {
   "cell_type": "code",
   "execution_count": null,
   "metadata": {},
   "outputs": [],
   "source": [
    "list_available_models()"
   ]
  },
  {
   "cell_type": "code",
   "execution_count": null,
   "metadata": {},
   "outputs": [],
   "source": [
    "model = load_ocr_model('model1')\n",
    "model"
   ]
  },
  {
   "cell_type": "code",
   "execution_count": null,
   "metadata": {},
   "outputs": [],
   "source": [
    "image_path = \"images/test_page.png\"\n",
    "image  = Image.open(image_path).convert('L')\n",
    "\n",
    "#  page segmentation \n",
    "bboxes = segment(image)"
   ]
  },
  {
   "cell_type": "code",
   "execution_count": null,
   "metadata": {},
   "outputs": [],
   "source": [
    "plt.axis('off')\n",
    "plt.imshow(image, cmap='gray')\n",
    "plt.show()"
   ]
  },
  {
   "cell_type": "code",
   "execution_count": null,
   "metadata": {},
   "outputs": [],
   "source": [
    " \n",
    "# get the bounding boxes\n",
    "boxes = bboxes['boxes']"
   ]
  },
  {
   "cell_type": "code",
   "execution_count": null,
   "metadata": {},
   "outputs": [],
   "source": [
    "# loop through segments and crop lines\n",
    "np_img = np.array(image)\n",
    "images = [] \n",
    "for index in range(len(boxes)):\n",
    "\n",
    "    x1, y1, x2, y2 = boxes[index]\n",
    "    cropped_im = np_img[y1:y2, x1:x2,]\n",
    "\n",
    "    dest_img = Image.fromarray(cropped_im.copy()) \n",
    "    \n",
    "    images.append( dest_img)\n",
    "\n",
    "    "
   ]
  },
  {
   "cell_type": "code",
   "execution_count": null,
   "metadata": {},
   "outputs": [],
   "source": [
    "def draw_image_and_text( image, text):\n",
    "\n",
    "    #image = Image.open(image_path)\n",
    "\n",
    "    image = image.resize( (700, 90), Image.Resampling.BICUBIC )\n",
    "\n",
    "    # Create a figure and axis\n",
    "    fig, ax = plt.subplots()\n",
    "\n",
    "    # Display the image\n",
    "    ax.imshow(image, cmap='gray')\n",
    "\n",
    "    # Set the text properties\n",
    "    \n",
    "    text = f\"{text}\"\n",
    "    text_x = image.width + 100  # Set the x-coordinate of the text\n",
    "    text_y = image.height // 2 + 20  # Set the y-coordinate of the text\n",
    "    text_fontsize = 14  # Set the fontsize of the text\n",
    "    text_color = '#D76777'  # Set the color of the text\n",
    "\n",
    "    # Add the text to the right side of the image\n",
    "    ax.text(text_x, text_y, text, fontsize=text_fontsize, color=text_color)\n",
    "\n",
    "    # Remove the axis\n",
    "    ax.axis('off')\n",
    "\n",
    "    # Show the plot\n",
    "    plt.show()"
   ]
  },
  {
   "cell_type": "code",
   "execution_count": null,
   "metadata": {},
   "outputs": [],
   "source": [
    "# ocr the extracted lines. display the recognized text side by side with the image\n",
    "text= model.ocr(images)\n",
    "for img, text in zip(images[1:], text[1:]):\n",
    "    draw_image_and_text( img, text)\n",
    "  \n",
    "  "
   ]
  },
  {
   "cell_type": "code",
   "execution_count": null,
   "metadata": {},
   "outputs": [],
   "source": []
  },
  {
   "cell_type": "code",
   "execution_count": null,
   "metadata": {},
   "outputs": [],
   "source": []
  }
 ],
 "metadata": {
  "kernelspec": {
   "display_name": "py3",
   "language": "python",
   "name": "python3"
  },
  "language_info": {
   "codemirror_mode": {
    "name": "ipython",
    "version": 3
   },
   "file_extension": ".py",
   "mimetype": "text/x-python",
   "name": "python",
   "nbconvert_exporter": "python",
   "pygments_lexer": "ipython3",
   "version": "3.10.13"
  }
 },
 "nbformat": 4,
 "nbformat_minor": 2
}
